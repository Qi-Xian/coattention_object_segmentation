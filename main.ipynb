{
 "cells": [
  {
   "cell_type": "code",
   "execution_count": null,
   "metadata": {},
   "outputs": [],
   "source": [
    "import torch\n",
    "import torchvision\n",
    "import matplotlib.pyplot as plt\n",
    "import numpy as np\n",
    "import tqdm.notebook\n",
    "from torch.utils.tensorboard import SummaryWriter\n",
    "import datetime\n",
    "from models import ResNet50, FCN32s"
   ]
  },
  {
   "cell_type": "code",
   "execution_count": null,
   "metadata": {},
   "outputs": [],
   "source": [
    "def send_image_mask_to_tensorboard(image, mask, writer, epoch):\n",
    "    image = image[0,:].cpu().detach().numpy()\n",
    "    image[0,:] = image[0,:] * 0.229 + 0.485\n",
    "    image[1,:] = image[1,:] * 0.224 + 0.456\n",
    "    image[2,:] = image[2,:] * 0.225 + 0.406    \n",
    "    mask = mask[0,:].cpu().detach().numpy().squeeze()\n",
    "    mask_binary = mask.copy()\n",
    "    cm = plt.get_cmap('viridis')\n",
    "    mask = cm(mask)\n",
    "    mask = mask[:,:,:3]\n",
    "    mask = mask.transpose((2,0,1))\n",
    "    obraz_segmented = image * mask_binary\n",
    "    obraz = np.concatenate((image, obraz_segmented, mask),2)\n",
    "    writer.add_image('Epoch {}'.format(epoch),obraz)\n",
    "    \n",
    "def select_class(dataset, class_name):\n",
    "    class_idx = dataset.class_to_idx[class_name]\n",
    "    dataset = [element for element in dataset if element[1]==class_idx]\n",
    "    return dataset\n",
    "\n",
    "def get_random_images_and_masks(generator):\n",
    "    generator.cpu()\n",
    "    for image in data_loader:\n",
    "        break\n",
    "    with torch.no_grad():\n",
    "        masks = generator(image[0])\n",
    "    return image[0].numpy(), masks.numpy()\n",
    "\n",
    "def save_and_show_segmented_images(images, masks, folder):\n",
    "    for i in range(images.shape[0]):\n",
    "        images[i, 0,:] = images[i, 0,:] * 0.229 + 0.485\n",
    "        images[i, 1,:] = images[i, 1,:] * 0.224 + 0.456\n",
    "        images[i, 2,:] = images[i, 2,:] * 0.225 + 0.406  \n",
    "        plt.figure(figsize = (50,50))\n",
    "        plt.subplot(131)\n",
    "        plt.imshow(images[i,:].transpose((1,2,0)))\n",
    "        plt.subplot(132)\n",
    "        plt.imshow(masks[i,:].squeeze())\n",
    "        segmented = images[i,:] * masks[i,:]\n",
    "        plt.subplot(133)\n",
    "        plt.imshow(segmented.transpose((1,2,0)))\n",
    "        plt.savefig('{}/example{}.png'.format(folder, i))"
   ]
  },
  {
   "cell_type": "code",
   "execution_count": null,
   "metadata": {},
   "outputs": [],
   "source": [
    "device = torch.device('cuda')\n",
    "class_from_dataset = 'Horse100' # available options: Horse100, Airplane100, Car100\n",
    "dataset_path = './data'\n",
    "nb_epochs = 7 # more epochs leads to overfiting"
   ]
  },
  {
   "cell_type": "code",
   "execution_count": null,
   "metadata": {},
   "outputs": [],
   "source": [
    "transform = torchvision.transforms.Compose([\n",
    "                            torchvision.transforms.Resize((384,384)),\n",
    "                            torchvision.transforms.ToTensor(),\n",
    "                            torchvision.transforms.Normalize([0.485, 0.456, 0.406],[0.229, 0.224, 0.225])])\n",
    "\n",
    "dataset = torchvision.datasets.ImageFolder(dataset_path, transform=transform)\n",
    "dataset = select_class(dataset, class_from_dataset)\n",
    "data_loader = torch.utils.data.DataLoader(dataset, shuffle = True, batch_size= 5)"
   ]
  },
  {
   "cell_type": "code",
   "execution_count": null,
   "metadata": {},
   "outputs": [],
   "source": [
    "feature_extractor =  ResNet50().eval()\n",
    "generator = FCN32s().train()"
   ]
  },
  {
   "cell_type": "code",
   "execution_count": null,
   "metadata": {},
   "outputs": [],
   "source": [
    "optimizer = torch.optim.SGD(generator.parameters(), lr = 1e-2)\n",
    "criterion = torch.nn.MSELoss()\n",
    "feature_extractor.to(device)\n",
    "generator.to(device);"
   ]
  },
  {
   "cell_type": "code",
   "execution_count": null,
   "metadata": {},
   "outputs": [],
   "source": [
    "now = datetime.datetime.now()\n",
    "writer = SummaryWriter('./logs/{}:{}:{}'.format(now.hour, now.minute, now.second))\n",
    "for epoch in range(nb_epochs):\n",
    "    running_loss = 0\n",
    "    pbar = tqdm.notebook.tqdm(total=len(data_loader))    \n",
    "    for i, images in enumerate(data_loader):\n",
    "        optimizer.zero_grad()                \n",
    "        images = images[0].to(device)        \n",
    "        masks = generator(images)\n",
    "        segmented_objects = masks * images\n",
    "        segmented_backgrounds = (1 - masks) * images\n",
    "        object_features = feature_extractor(segmented_objects).squeeze()\n",
    "        background_features = feature_extractor(segmented_backgrounds).squeeze()\n",
    "        loss = 0\n",
    "        if epoch < 2:\n",
    "            loss = masks.mean() * 2\n",
    "        else:\n",
    "            for q in range(images.shape[0]):\n",
    "                for j in range(images.shape[0]):\n",
    "                    if q == j:\n",
    "                        continue\n",
    "                    dij_plus = criterion(object_features[q,:], object_features[j,:]) ** 2\n",
    "                    dij_minus = criterion(object_features[q,:], background_features[q,:]) ** 2\n",
    "                    dij_minus = dij_minus + criterion(object_features[j,:], background_features[j,:]) **2\n",
    "                    dij_minus = dij_minus/2\n",
    "                    loss = loss + torch.log(torch.exp(-dij_plus)/(torch.exp(-dij_plus) + torch.exp(-dij_minus))) * (-1)\n",
    "        loss.backward()\n",
    "        optimizer.step()\n",
    "        with torch.no_grad():\n",
    "            running_loss += loss.item()\n",
    "        pbar.update(1)\n",
    "    send_image_mask_to_tensorboard(images, masks, writer,epoch )\n",
    "    if epoch >=2:\n",
    "        writer.add_scalar('training_loss',running_loss/len(dataset), epoch)\n",
    "    print('Epoch {} loss {}'.format(epoch, running_loss/len(dataset)))    "
   ]
  },
  {
   "cell_type": "code",
   "execution_count": null,
   "metadata": {},
   "outputs": [],
   "source": [
    "images, masks = get_random_images_and_masks(generator)    \n",
    "save_and_show_segmented_images(images.copy(), masks.copy(), 'images')"
   ]
  }
 ],
 "metadata": {
  "file_extension": ".py",
  "kernelspec": {
   "display_name": "Python 3",
   "language": "python",
   "name": "python3"
  },
  "language_info": {
   "codemirror_mode": {
    "name": "ipython",
    "version": 3
   },
   "file_extension": ".py",
   "mimetype": "text/x-python",
   "name": "python",
   "nbconvert_exporter": "python",
   "pygments_lexer": "ipython3",
   "version": "3.6.9"
  },
  "mimetype": "text/x-python",
  "name": "python",
  "npconvert_exporter": "python",
  "pygments_lexer": "ipython3",
  "version": 3
 },
 "nbformat": 4,
 "nbformat_minor": 2
}
